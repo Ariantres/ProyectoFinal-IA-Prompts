{
 "cells": [
  {
   "cell_type": "markdown",
   "metadata": {},
   "source": [
    "# Proyecto Final – IA: Entretejiendo Imaginación y Algoritmos\n",
    "\n",
    "## Generación de Imágenes con NightCafe\n",
    "\n",
    "En esta sección se muestran los prompts utilizados para la generación de imágenes con **NightCafe**.\n",
    "Cada imagen fue descargada y guardada en la carpeta `outputs/images/`.\n",
    "\n",
    "---"
   ]
  },
  {
   "cell_type": "markdown",
   "metadata": {},
   "source": [
    "### Ejemplo 1 – Aula con IA ayudando\n",
    "\n",
    "**Prompt usado:**  \n",
    "*Un aula moderna donde un estudiante usa una computadora portátil y un asistente de inteligencia artificial aparece como un holograma amigable ayudando con la tarea de matemáticas. La escena es colorida, futurista pero acogedora, estilo arte digital.*\n",
    "\n",
    "![Aula con IA](outputs/images/aula_ai.jpg)"
   ]
  },
  {
   "cell_type": "code",
   "execution_count": null,
   "metadata": {},
   "outputs": [],
   "source": [
    "from IPython.display import Image\n",
    "Image(filename=\"outputs/images/aula_ai.jpg\")"
   ]
  },
  {
   "cell_type": "markdown",
   "metadata": {},
   "source": [
    "### Ejemplo 2 – Tutor de idiomas con IA\n",
    "\n",
    "**Prompt usado:**  \n",
    "*A young person learning a new language with a futuristic AI assistant projected from a tablet. The AI appears as a glowing humanoid guide pointing to words and images. Warm and inspiring atmosphere, digital illustration.*\n",
    "\n",
    "![Tutor idiomas](outputs/images/tutor_idiomas.jpg)"
   ]
  },
  {
   "cell_type": "code",
   "execution_count": null,
   "metadata": {},
   "outputs": [],
   "source": [
    "Image(filename=\"outputs/images/tutor_idiomas.jpg\")"
   ]
  },
  {
   "cell_type": "markdown",
   "metadata": {},
   "source": [
    "### Ejemplo 3 – Inclusión educativa\n",
    "\n",
    "**Prompt usado:**  \n",
    "*A child with hearing aids sitting in front of a screen where an AI assistant provides real-time sign language translation. Bright, inclusive, and optimistic environment, modern flat illustration style.*\n",
    "\n",
    "![Inclusión educativa](outputs/images/inclusion.jpg)"
   ]
  },
  {
   "cell_type": "code",
   "execution_count": null,
   "metadata": {},
   "outputs": [],
   "source": [
    "Image(filename=\"outputs/images/inclusion.jpg\")"
   ]
  }
 ],
 "metadata": {
  "kernelspec": {
   "display_name": "Python 3",
   "language": "python",
   "name": "python3"
  },
  "language_info": {
   "name": "python",
   "version": "3.11"
  }
 },
 "nbformat": 4,
 "nbformat_minor": 2
}
